{
  "cells": [
    {
      "cell_type": "markdown",
      "metadata": {
        "id": "view-in-github",
        "colab_type": "text"
      },
      "source": [
        "<a href=\"https://colab.research.google.com/github/mstrash/mstr22/blob/main/Test_Usergroup_assignment.ipynb\" target=\"_parent\"><img src=\"https://colab.research.google.com/assets/colab-badge.svg\" alt=\"Open In Colab\"/></a>"
      ]
    },
    {
      "cell_type": "code",
      "execution_count": null,
      "metadata": {
        "id": "9-9rLoh5cuBY"
      },
      "outputs": [],
      "source": [
        "!pip install mstrio-py==11.3.4.101\n",
        "import pdb\n",
        "import mstrio\n",
        "from mstrio import connection\n",
        "from mstrio import api\n",
        "from mstrio.api import browsing\n",
        "import mstrio.project_objects.datasets.olap_cube as master\n",
        "\n",
        "\n"
      ]
    },
    {
      "cell_type": "code",
      "source": [
        "base_url=\"https://mstr.dwapplications.com:8443/MicroStrategyLibrary/api/\"\n",
        "#MicroStrategy Tutorial\n",
        "ldprj='5B30C5AB11E9C111DD5D0080EFA5420F'\n",
        "username='hacker_admin'\n",
        "password='h4cker@!'"
      ],
      "metadata": {
        "id": "XzUgayuyCl6P"
      },
      "execution_count": 3,
      "outputs": []
    },
    {
      "cell_type": "code",
      "source": [
        "conn=connection.Connection(base_url=base_url,username=username,password=password,project_id=ldprj)\n",
        "\n",
        "cub=master.OlapCube(conn,id='27A773E77D4AC6D8E5382682BED49982')\n",
        "\n",
        "p=cub.to_dataframe()\n",
        "\n",
        "p.to_csv('cube_sample.csv', index=False)\n",
        "\n",
        "print(p)\n",
        "\n",
        "p['TEST PROFILE']\n"
      ],
      "metadata": {
        "id": "nPewI50MCP-S"
      },
      "execution_count": null,
      "outputs": []
    },
    {
      "cell_type": "code",
      "source": [
        "user1=p['TEST PROFILE'][0]\n",
        "user1=user1.strip()\n",
        "print('find group from:'+user1)\n",
        "user_testhack=p['TEST USER'][0]\n",
        "print('apply group to :'+user_testhack)\n",
        "\n",
        "#membership=mstrio.api.users.get_memberships(conn,user1)\n",
        "\n",
        "user1_obj = mstrio.users_and_groups.User(connection=conn,id=user1)\n",
        "\n"
      ],
      "metadata": {
        "colab": {
          "base_uri": "https://localhost:8080/"
        },
        "id": "hG4SlILoCt0q",
        "outputId": "e6d1b517-3156-4bd2-da1e-7d9ebf520fc6"
      },
      "execution_count": 83,
      "outputs": [
        {
          "output_type": "stream",
          "name": "stdout",
          "text": [
            "find group from:28ECA90311D5188EC000E9ABCA1B1A4F\n",
            "apply group to :9A4BA6757C4081B9125F48913E600630\n",
            "User object named: 'Jeffrey Malick' with ID: '28ECA90311D5188EC000E9ABCA1B1A4F'\n"
          ]
        }
      ]
    },
    {
      "cell_type": "code",
      "source": [
        "thislist=[]\n",
        "for x in user1_obj.memberships:\n",
        "  print( x['name'])\n",
        "  thislist.append(x['name'])\n",
        "print(thislist)\n",
        "  "
      ],
      "metadata": {
        "colab": {
          "base_uri": "https://localhost:8080/"
        },
        "id": "5BUh-XX95wsv",
        "outputId": "de829c35-6d58-41fe-eb3c-f27a1c82e1db"
      },
      "execution_count": 84,
      "outputs": [
        {
          "output_type": "stream",
          "name": "stdout",
          "text": [
            "Customers\n",
            "Everyone\n",
            "['Customers', 'Everyone']\n"
          ]
        }
      ]
    },
    {
      "cell_type": "code",
      "source": [
        "#usr='28ECA8EA11D5188EC000E9ABCA1B1A4F'\n",
        "userhack_obj = mstrio.users_and_groups.User(connection=conn,id=user_testhack)\n",
        "for i in userhack_obj.memberships:\n",
        "  print(i['name'])"
      ],
      "metadata": {
        "colab": {
          "base_uri": "https://localhost:8080/"
        },
        "id": "gfp3W7l_hSyf",
        "outputId": "78049bc6-3e5c-4576-f8f9-f6f34c7a26bd"
      },
      "execution_count": 82,
      "outputs": [
        {
          "output_type": "stream",
          "name": "stdout",
          "text": [
            "User object named: 'TEST_hacker_admin' with ID: '9A4BA6757C4081B9125F48913E600630'\n",
            "Everyone\n",
            "International Users\n"
          ]
        }
      ]
    },
    {
      "cell_type": "code",
      "execution_count": 25,
      "metadata": {
        "id": "gWQ2jqtZBba5"
      },
      "outputs": [],
      "source": [
        "mstrio.users_and_groups.User.add_to_user_groups?"
      ]
    },
    {
      "cell_type": "code",
      "source": [
        "user_groups_list = mstrio.users_and_groups.list_user_groups(connection=conn)"
      ],
      "metadata": {
        "id": "nKkcI-HEsqGO"
      },
      "execution_count": 27,
      "outputs": []
    },
    {
      "cell_type": "code",
      "source": [
        "print(user_groups_list)"
      ],
      "metadata": {
        "colab": {
          "base_uri": "https://localhost:8080/"
        },
        "id": "gChafY0AsqX7",
        "outputId": "aff58698-c4e9-4758-a20b-dca554b93143"
      },
      "execution_count": 29,
      "outputs": [
        {
          "output_type": "stream",
          "name": "stdout",
          "text": [
            "[UserGroup(connection, name='3rd Party Users', id='D09773F94699124B4D75B48F1B358327'), UserGroup(connection, name='AnalyticsServer', id='98AA5CA04DD6D20C6875C6B314874A1C'), UserGroup(connection, name='API', id='E87FB53F46A623DA07C323A420DB1B49'), UserGroup(connection, name='Architect', id='A51EE17B415A313F78DF4998743C4CCC'), UserGroup(connection, name='CollaborationServer', id='548909F545C14AEA603CCDB67F8AF63E'), UserGroup(connection, name='Customers', id='28ECA8BB11D5188EC000E9ABCA1B1A4F'), UserGroup(connection, name='Desktop', id='0F1151924F5D15067DEBF7972303DE97'), UserGroup(connection, name='Developers', id='C1E1419F11D603A2100086B3A5E8F8A4'), UserGroup(connection, name='DistributionServer', id='066A611E40C21FF4FDA5EE9329224B03'), UserGroup(connection, name='Everyone', id='C82C6B1011D2894CC0009D9F29718E4F'), UserGroup(connection, name='FUN-MICROSTRATEGY-FINANCE-ENDUSER-GLOBALSOURCING', id='A4FD4E0449085497B73E928EB34D89D3'), UserGroup(connection, name='hacker_admin_group', id='F366769840CC04148D31F5B62DD77FDB'), UserGroup(connection, name='International Users', id='8ECACC0549A9BA8304A4DAB12206256E'), UserGroup(connection, name='keysight', id='374B2D3C4FEE5B3C80E9CC8B23912FEA'), UserGroup(connection, name='LDAP Public / Guest', id='4FF5121411D49BC8C00014894C78604F'), UserGroup(connection, name='LDAP Users', id='4FF5121511D49BC8C00014894C78604F'), UserGroup(connection, name='Managers', id='E96A79BE11D4BBCE10004694316DE8A4'), UserGroup(connection, name='MicroStrategy Architect', id='69758FF047E96C1942E62988347D2635'), UserGroup(connection, name='MicroStrategy Desktop Analyst', id='5B9C0CCF4530F8F0CFD93DA84B96F997'), UserGroup(connection, name='MicroStrategy Desktop Designer', id='9E11068C4D69BA6FBBFAABBA43C6E88C'), UserGroup(connection, name='MicroStrategy Desktop Users', id='65D4B0DB4CF8DA4B0CDA28B4045AF477'), UserGroup(connection, name='MicroStrategy Groups', id='3D0F5EF8978D4AE086012C196BF01EBA'), UserGroup(connection, name='MicroStrategy Web Analyst', id='0E5817560FD811D485D100C04F685B39'), UserGroup(connection, name='MicroStrategy Web Professional', id='C2E4DA4A411B972B063FE8A583989959'), UserGroup(connection, name='MicroStrategy Web Reporter', id='0E5817570FD811D485D100C04F685B39'), UserGroup(connection, name='Mobile', id='6B5E4DA24A107AADDEAA02B3AEE76165'), UserGroup(connection, name='Mobile Users', id='0AA72D6042B938FF3FBED3AAC39349F5'), UserGroup(connection, name='Narrowcast System Administrators', id='C676939846742A67837009882304F129'), UserGroup(connection, name='NO_test_profile', id='3EA05B425C4F86653013B39D361E9BF0'), UserGroup(connection, name='Northeast Employees', id='7FB7CB8A481BB51F880B31926F0E7298'), UserGroup(connection, name='Platform Support Administrators', id='FB5CDCCE4D0E70EDE48110A0FDCFD370'), UserGroup(connection, name='Public / Guest', id='294DEDC011D2F1D56000D98E67019608'), UserGroup(connection, name='Reporter', id='80D250A844EF76770C253AA31CBE09D0'), UserGroup(connection, name='Second Factor Exempt', id='109783684D97ADEE83600398D49102D3'), UserGroup(connection, name='Security Users', id='2B129FE34B133C71ED3E30A1EE288D3F'), UserGroup(connection, name='Server Bulk Administrators', id='406FE4D44C6C8EAF2601048C21124CC3'), UserGroup(connection, name='Server Configuration Administrators', id='D5425EC34160D5685D59ED84EF28D01A'), UserGroup(connection, name='Server Operations Administrators', id='91877A69427D8426929A72AD8463DFDA'), UserGroup(connection, name='Server Operations Monitors', id='667E5A1843C2807FA96902BBA1F97482'), UserGroup(connection, name='Server Resource Settings Administrators', id='3326430043FD911B855FD3B7293439E5'), UserGroup(connection, name='Server Security Administrators', id='A740B99744A9C74B82E6078AAA3A255E'), UserGroup(connection, name='System Administrators', id='5F3FAFE111D2D8CC6000CC8E67019608'), UserGroup(connection, name='System Monitors', id='5F3FAFE011D2D8CC6000CC8E67019608'), UserGroup(connection, name='Test_User_Group', id='41FA74130B4E60A0C966E4B89EAEACCA'), UserGroup(connection, name='TransactionServer', id='3F821F984A14F8CBC15BDD92037BF89A'), UserGroup(connection, name='User Administrators', id='17CD5CDB43085A8A52533B86A05DCB3A'), UserGroup(connection, name='User Role Bundles', id='5E2AB70543F6433FBFB431BFCA67B388'), UserGroup(connection, name='Warehouse Users', id='FB08AA9A4FD8BFFE91208FB72EBE6331'), UserGroup(connection, name='Web', id='E6D5D310419463C43AEA9BA739C265DF'), UserGroup(connection, name='Web Users', id='C1E141DB11D603A2100086B3A5E8F8A4'), UserGroup(connection, name='Web Viewers', id='85A05F10986F11D48CD100B0D02A75D0')]\n"
          ]
        }
      ]
    },
    {
      "cell_type": "code",
      "source": [
        "usr='EA3B9755426A659BFEAEFAB4BAB7B028'\n",
        "userhack_obj = mstrio.users_and_groups.User(connection=conn,id=usr)\n",
        "for i in userhack_obj.memberships:\n",
        "  print(i['name'])"
      ],
      "metadata": {
        "colab": {
          "base_uri": "https://localhost:8080/"
        },
        "id": "nZYbKPdesqff",
        "outputId": "0cadaffe-8c9b-4b2c-8859-5ac4d532dd97"
      },
      "execution_count": 59,
      "outputs": [
        {
          "output_type": "stream",
          "name": "stdout",
          "text": [
            "User object named: 'User_TChinese' with ID: 'EA3B9755426A659BFEAEFAB4BAB7B028'\n",
            "Everyone\n",
            "International Users\n"
          ]
        }
      ]
    },
    {
      "cell_type": "code",
      "source": [
        "#mstrio.users_and_groups.list_users(conn,name='Administrator')\n",
        "\n",
        "usrgrp = mstrio.users_and_groups.UserGroup(conn,name='System Administrators')\n",
        "p=[]\n",
        "for member in usrgrp.list_members():\n",
        "  p.append(member)\n",
        "  print(member.get('name'))\n",
        "#print(p)"
      ],
      "metadata": {
        "colab": {
          "base_uri": "https://localhost:8080/"
        },
        "id": "iD9ZBTomna_d",
        "outputId": "08b6e7af-d11b-4aec-abdf-671f94d1188e"
      },
      "execution_count": 74,
      "outputs": [
        {
          "output_type": "stream",
          "name": "stdout",
          "text": [
            "UserGroup object named: 'System Administrators' with ID: '5F3FAFE111D2D8CC6000CC8E67019608'\n",
            "Administrator\n",
            "TB ADM\n",
            "TB Admin Duplicate\n",
            "TB_test_18_03\n"
          ]
        }
      ]
    },
    {
      "cell_type": "code",
      "source": [
        "mstrio.users_and_groups.UserGroup.create(connection=conn, name=\"AshishGrp\")"
      ],
      "metadata": {
        "colab": {
          "base_uri": "https://localhost:8080/"
        },
        "id": "p7igmAsZ7Waw",
        "outputId": "6d28ec38-5599-4ae0-a9bd-eb5e7df7b3a4"
      },
      "execution_count": 85,
      "outputs": [
        {
          "output_type": "stream",
          "name": "stdout",
          "text": [
            "Successfully created user group 'AshishGrp' with ID: '257B52FF814E9F98990C05BA002BDAC3'\n"
          ]
        },
        {
          "output_type": "execute_result",
          "data": {
            "text/plain": [
              "UserGroup(connection, name='AshishGrp', id='257B52FF814E9F98990C05BA002BDAC3')"
            ]
          },
          "metadata": {},
          "execution_count": 85
        }
      ]
    },
    {
      "cell_type": "code",
      "source": [
        "user_group_ = mstrio.users_and_groups.UserGroup(connection=conn, name=\"AshishGrp\")\n",
        "user_group_.add_users(users=user_testhack)"
      ],
      "metadata": {
        "colab": {
          "base_uri": "https://localhost:8080/"
        },
        "id": "kr0h3LSd8Mlu",
        "outputId": "0d0fbad7-a05e-4be7-ac3b-ccd8ff2d2a6c"
      },
      "execution_count": 87,
      "outputs": [
        {
          "output_type": "stream",
          "name": "stdout",
          "text": [
            "UserGroup object named: 'AshishGrp' with ID: '257B52FF814E9F98990C05BA002BDAC3'\n",
            "Added ['9A4BA6757C4081B9125F48913E600630'] user(s) to group AshishGrp\n"
          ]
        }
      ]
    },
    {
      "cell_type": "code",
      "source": [
        "userhack_obj = mstrio.users_and_groups.User(connection=conn,id=user_testhack)\n",
        "for i in userhack_obj.memberships:\n",
        "  print(i['name'])"
      ],
      "metadata": {
        "colab": {
          "base_uri": "https://localhost:8080/"
        },
        "id": "IF5W--gh8tGF",
        "outputId": "30443052-e8ab-42db-8a76-01aa038f843c"
      },
      "execution_count": 88,
      "outputs": [
        {
          "output_type": "stream",
          "name": "stdout",
          "text": [
            "User object named: 'TEST_hacker_admin' with ID: '9A4BA6757C4081B9125F48913E600630'\n",
            "AshishGrp\n",
            "Everyone\n",
            "International Users\n"
          ]
        }
      ]
    }
  ],
  "metadata": {
    "colab": {
      "name": "List_ALL_METRICS.ipynb",
      "provenance": [],
      "collapsed_sections": [],
      "include_colab_link": true
    },
    "kernelspec": {
      "display_name": "Python 3",
      "name": "python3"
    },
    "language_info": {
      "name": "python"
    }
  },
  "nbformat": 4,
  "nbformat_minor": 0
}